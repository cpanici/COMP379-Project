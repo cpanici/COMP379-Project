{
 "cells": [
  {
   "cell_type": "code",
   "execution_count": 1,
   "metadata": {},
   "outputs": [],
   "source": [
    "import numpy as np\n",
    "import pandas as pd\n",
    "from sklearn.model_selection import train_test_split\n",
    "from sklearn.preprocessing import StandardScaler\n",
    "from sklearn.model_selection import GridSearchCV\n",
    "from sklearn.model_selection import StratifiedKFold\n",
    "from sklearn.linear_model import LogisticRegression\n",
    "\n",
    "from sklearn.metrics import f1_score\n",
    "from sklearn.dummy import DummyClassifier"
   ]
  },
  {
   "cell_type": "markdown",
   "metadata": {},
   "source": [
    "## Read data"
   ]
  },
  {
   "cell_type": "code",
   "execution_count": 28,
   "metadata": {},
   "outputs": [],
   "source": [
    "data = pd.read_csv('data/complete.csv')"
   ]
  },
  {
   "cell_type": "code",
   "execution_count": 29,
   "metadata": {},
   "outputs": [],
   "source": [
    "data = data.drop('customer_id', axis=1)"
   ]
  },
  {
   "cell_type": "markdown",
   "metadata": {},
   "source": [
    "## Split into train and test"
   ]
  },
  {
   "cell_type": "code",
   "execution_count": 30,
   "metadata": {},
   "outputs": [],
   "source": [
    "X = data.loc[:, data.columns != 'card_offer'].values\n",
    "y = data['card_offer'].values\n",
    "\n",
    "X_train, X_test, y_train, y_test = train_test_split(X, y,\n",
    "                                                  test_size=0.2,\n",
    "                                                  random_state=0,\n",
    "                                                   stratify=y)"
   ]
  },
  {
   "cell_type": "markdown",
   "metadata": {},
   "source": [
    "## Standardize"
   ]
  },
  {
   "cell_type": "code",
   "execution_count": 31,
   "metadata": {},
   "outputs": [],
   "source": [
    "stdsc = StandardScaler().fit(X_train)\n",
    "X_train_std = stdsc.transform(X_train)\n",
    "X_test_std = stdsc.transform(X_test)"
   ]
  },
  {
   "cell_type": "markdown",
   "metadata": {},
   "source": [
    "## Create model, cross validate\n",
    "\n",
    "- For this part, the GridSearchCV object will try the different combos of parameters for us\n",
    "- To use it, we just pass the model and the parameters we want it to try in a dictionary.\n",
    "- Each key of the dictionary is associate with a parameter of the model, and each key is a list of values to try for that paramter\n",
    "- For example, LogisticRegression has parameters called 'penalty' and 'C', so I use those as keys and associate them with a list of values to try for that parameter."
   ]
  },
  {
   "cell_type": "markdown",
   "metadata": {},
   "source": [
    "### Default Model"
   ]
  },
  {
   "cell_type": "code",
   "execution_count": 41,
   "metadata": {},
   "outputs": [
    {
     "name": "stdout",
     "output_type": "stream",
     "text": [
      "The f1 score of the default LR model is: 0.8664383561643836\n"
     ]
    }
   ],
   "source": [
    "model = LogisticRegression(random_state=0)\n",
    "model.fit(X_train_std, y_train)\n",
    "print(f\"The f1 score of the default LR model is: {f1_score(y_test, model.predict(X_test_std))}\")"
   ]
  },
  {
   "cell_type": "markdown",
   "metadata": {},
   "source": [
    "### Hyperparameter Optimization"
   ]
  },
  {
   "cell_type": "code",
   "execution_count": 42,
   "metadata": {},
   "outputs": [
    {
     "data": {
      "text/plain": [
       "GridSearchCV(cv=StratifiedKFold(n_splits=10, random_state=None, shuffle=False),\n",
       "             estimator=LogisticRegression(random_state=0, solver='liblinear'),\n",
       "             param_grid={'C': [0.0001, 0.0005, 0.001, 0.005, 0.01, 0.05, 1, 5,\n",
       "                               10, 50, 100, 500, 1000],\n",
       "                         'penalty': ['l1', 'l2']},\n",
       "             scoring='f1')"
      ]
     },
     "execution_count": 42,
     "metadata": {},
     "output_type": "execute_result"
    }
   ],
   "source": [
    "model = LogisticRegression(solver='liblinear', random_state=0)\n",
    "parameters = {'penalty': ['l1', 'l2'], \n",
    "              'C': [.0001, .0005, .001, .005,  .01, .05,  1, 5, 10, 50, 100, 500, 1000]}\n",
    "\n",
    "skf = StratifiedKFold(n_splits=10)\n",
    "classifier = GridSearchCV(model, parameters, cv=skf, scoring=\"f1\")\n",
    "classifier.fit(X_train_std, y_train)"
   ]
  },
  {
   "cell_type": "markdown",
   "metadata": {},
   "source": [
    "## Print out top 5 models according to mean test fold score\n",
    "- Look at mean_test_score column"
   ]
  },
  {
   "cell_type": "code",
   "execution_count": 43,
   "metadata": {},
   "outputs": [
    {
     "data": {
      "text/html": [
       "<div>\n",
       "<style scoped>\n",
       "    .dataframe tbody tr th:only-of-type {\n",
       "        vertical-align: middle;\n",
       "    }\n",
       "\n",
       "    .dataframe tbody tr th {\n",
       "        vertical-align: top;\n",
       "    }\n",
       "\n",
       "    .dataframe thead th {\n",
       "        text-align: right;\n",
       "    }\n",
       "</style>\n",
       "<table border=\"1\" class=\"dataframe\">\n",
       "  <thead>\n",
       "    <tr style=\"text-align: right;\">\n",
       "      <th></th>\n",
       "      <th>mean_fit_time</th>\n",
       "      <th>std_fit_time</th>\n",
       "      <th>mean_score_time</th>\n",
       "      <th>std_score_time</th>\n",
       "      <th>param_C</th>\n",
       "      <th>param_penalty</th>\n",
       "      <th>params</th>\n",
       "      <th>split0_test_score</th>\n",
       "      <th>split1_test_score</th>\n",
       "      <th>split2_test_score</th>\n",
       "      <th>split3_test_score</th>\n",
       "      <th>split4_test_score</th>\n",
       "      <th>split5_test_score</th>\n",
       "      <th>split6_test_score</th>\n",
       "      <th>split7_test_score</th>\n",
       "      <th>split8_test_score</th>\n",
       "      <th>split9_test_score</th>\n",
       "      <th>mean_test_score</th>\n",
       "      <th>std_test_score</th>\n",
       "      <th>rank_test_score</th>\n",
       "    </tr>\n",
       "  </thead>\n",
       "  <tbody>\n",
       "    <tr>\n",
       "      <th>13</th>\n",
       "      <td>0.029521</td>\n",
       "      <td>0.003482</td>\n",
       "      <td>0.001496</td>\n",
       "      <td>0.000492</td>\n",
       "      <td>1</td>\n",
       "      <td>l2</td>\n",
       "      <td>{'C': 1, 'penalty': 'l2'}</td>\n",
       "      <td>0.889796</td>\n",
       "      <td>0.888889</td>\n",
       "      <td>0.887967</td>\n",
       "      <td>0.860870</td>\n",
       "      <td>0.897119</td>\n",
       "      <td>0.871795</td>\n",
       "      <td>0.871369</td>\n",
       "      <td>0.878431</td>\n",
       "      <td>0.867769</td>\n",
       "      <td>0.887967</td>\n",
       "      <td>0.880197</td>\n",
       "      <td>0.011200</td>\n",
       "      <td>1</td>\n",
       "    </tr>\n",
       "    <tr>\n",
       "      <th>15</th>\n",
       "      <td>0.027135</td>\n",
       "      <td>0.002480</td>\n",
       "      <td>0.001292</td>\n",
       "      <td>0.000453</td>\n",
       "      <td>5</td>\n",
       "      <td>l2</td>\n",
       "      <td>{'C': 5, 'penalty': 'l2'}</td>\n",
       "      <td>0.888889</td>\n",
       "      <td>0.881633</td>\n",
       "      <td>0.887967</td>\n",
       "      <td>0.862069</td>\n",
       "      <td>0.893443</td>\n",
       "      <td>0.876596</td>\n",
       "      <td>0.871369</td>\n",
       "      <td>0.875000</td>\n",
       "      <td>0.864198</td>\n",
       "      <td>0.892562</td>\n",
       "      <td>0.879372</td>\n",
       "      <td>0.010780</td>\n",
       "      <td>2</td>\n",
       "    </tr>\n",
       "    <tr>\n",
       "      <th>17</th>\n",
       "      <td>0.027926</td>\n",
       "      <td>0.004324</td>\n",
       "      <td>0.001394</td>\n",
       "      <td>0.000487</td>\n",
       "      <td>10</td>\n",
       "      <td>l2</td>\n",
       "      <td>{'C': 10, 'penalty': 'l2'}</td>\n",
       "      <td>0.888889</td>\n",
       "      <td>0.881633</td>\n",
       "      <td>0.887967</td>\n",
       "      <td>0.858369</td>\n",
       "      <td>0.893443</td>\n",
       "      <td>0.876596</td>\n",
       "      <td>0.871369</td>\n",
       "      <td>0.875000</td>\n",
       "      <td>0.864198</td>\n",
       "      <td>0.892562</td>\n",
       "      <td>0.879002</td>\n",
       "      <td>0.011412</td>\n",
       "      <td>3</td>\n",
       "    </tr>\n",
       "    <tr>\n",
       "      <th>16</th>\n",
       "      <td>0.082879</td>\n",
       "      <td>0.004225</td>\n",
       "      <td>0.001296</td>\n",
       "      <td>0.000449</td>\n",
       "      <td>10</td>\n",
       "      <td>l1</td>\n",
       "      <td>{'C': 10, 'penalty': 'l1'}</td>\n",
       "      <td>0.888889</td>\n",
       "      <td>0.881633</td>\n",
       "      <td>0.887967</td>\n",
       "      <td>0.858369</td>\n",
       "      <td>0.893443</td>\n",
       "      <td>0.876596</td>\n",
       "      <td>0.871369</td>\n",
       "      <td>0.875000</td>\n",
       "      <td>0.864198</td>\n",
       "      <td>0.892562</td>\n",
       "      <td>0.879002</td>\n",
       "      <td>0.011412</td>\n",
       "      <td>3</td>\n",
       "    </tr>\n",
       "    <tr>\n",
       "      <th>14</th>\n",
       "      <td>0.088161</td>\n",
       "      <td>0.004223</td>\n",
       "      <td>0.001297</td>\n",
       "      <td>0.000457</td>\n",
       "      <td>5</td>\n",
       "      <td>l1</td>\n",
       "      <td>{'C': 5, 'penalty': 'l1'}</td>\n",
       "      <td>0.888889</td>\n",
       "      <td>0.881633</td>\n",
       "      <td>0.887967</td>\n",
       "      <td>0.858369</td>\n",
       "      <td>0.893443</td>\n",
       "      <td>0.876596</td>\n",
       "      <td>0.871369</td>\n",
       "      <td>0.875000</td>\n",
       "      <td>0.864198</td>\n",
       "      <td>0.892562</td>\n",
       "      <td>0.879002</td>\n",
       "      <td>0.011412</td>\n",
       "      <td>3</td>\n",
       "    </tr>\n",
       "  </tbody>\n",
       "</table>\n",
       "</div>"
      ],
      "text/plain": [
       "    mean_fit_time  std_fit_time  mean_score_time  std_score_time param_C  \\\n",
       "13       0.029521      0.003482         0.001496        0.000492       1   \n",
       "15       0.027135      0.002480         0.001292        0.000453       5   \n",
       "17       0.027926      0.004324         0.001394        0.000487      10   \n",
       "16       0.082879      0.004225         0.001296        0.000449      10   \n",
       "14       0.088161      0.004223         0.001297        0.000457       5   \n",
       "\n",
       "   param_penalty                      params  split0_test_score  \\\n",
       "13            l2   {'C': 1, 'penalty': 'l2'}           0.889796   \n",
       "15            l2   {'C': 5, 'penalty': 'l2'}           0.888889   \n",
       "17            l2  {'C': 10, 'penalty': 'l2'}           0.888889   \n",
       "16            l1  {'C': 10, 'penalty': 'l1'}           0.888889   \n",
       "14            l1   {'C': 5, 'penalty': 'l1'}           0.888889   \n",
       "\n",
       "    split1_test_score  split2_test_score  split3_test_score  \\\n",
       "13           0.888889           0.887967           0.860870   \n",
       "15           0.881633           0.887967           0.862069   \n",
       "17           0.881633           0.887967           0.858369   \n",
       "16           0.881633           0.887967           0.858369   \n",
       "14           0.881633           0.887967           0.858369   \n",
       "\n",
       "    split4_test_score  split5_test_score  split6_test_score  \\\n",
       "13           0.897119           0.871795           0.871369   \n",
       "15           0.893443           0.876596           0.871369   \n",
       "17           0.893443           0.876596           0.871369   \n",
       "16           0.893443           0.876596           0.871369   \n",
       "14           0.893443           0.876596           0.871369   \n",
       "\n",
       "    split7_test_score  split8_test_score  split9_test_score  mean_test_score  \\\n",
       "13           0.878431           0.867769           0.887967         0.880197   \n",
       "15           0.875000           0.864198           0.892562         0.879372   \n",
       "17           0.875000           0.864198           0.892562         0.879002   \n",
       "16           0.875000           0.864198           0.892562         0.879002   \n",
       "14           0.875000           0.864198           0.892562         0.879002   \n",
       "\n",
       "    std_test_score  rank_test_score  \n",
       "13        0.011200                1  \n",
       "15        0.010780                2  \n",
       "17        0.011412                3  \n",
       "16        0.011412                3  \n",
       "14        0.011412                3  "
      ]
     },
     "execution_count": 43,
     "metadata": {},
     "output_type": "execute_result"
    }
   ],
   "source": [
    "pd.DataFrame(classifier.cv_results_).sort_values(by='rank_test_score').head(5)"
   ]
  },
  {
   "cell_type": "markdown",
   "metadata": {},
   "source": [
    "## Pick best model"
   ]
  },
  {
   "cell_type": "code",
   "execution_count": 34,
   "metadata": {},
   "outputs": [],
   "source": [
    "np.set_printoptions(suppress=True)"
   ]
  },
  {
   "cell_type": "code",
   "execution_count": 44,
   "metadata": {},
   "outputs": [
    {
     "name": "stdout",
     "output_type": "stream",
     "text": [
      "The f1 score of the best LR model is: 0.8688245315161839\n",
      "Test set accuracy of best LR model: 0.9615\n"
     ]
    }
   ],
   "source": [
    "best_model = LogisticRegression(penalty='l1', C=1, solver='liblinear', random_state=0)\n",
    "best_model.fit(X_train_std, y_train)\n",
    "print(f\"The f1 score of the best LR model is: {f1_score(y_test, best_model.predict(X_test_std))}\")\n",
    "print(f'Test set accuracy of best LR model: {best_model.score(X_test_std, y_test)}')"
   ]
  },
  {
   "cell_type": "markdown",
   "metadata": {},
   "source": [
    "## Baseline"
   ]
  },
  {
   "cell_type": "code",
   "execution_count": 48,
   "metadata": {},
   "outputs": [
    {
     "name": "stdout",
     "output_type": "stream",
     "text": [
      "===========DUMMY MODELS ON TEST SET==========\n",
      "Dummy 1: Stratified\n",
      "f1 score: 0.15000000000000002\n",
      "Dummy 2: Most Frequent\n",
      "f1 score: 0.0\n"
     ]
    }
   ],
   "source": [
    "dummy1 = DummyClassifier(strategy='stratified')\n",
    "dummy2 = DummyClassifier(strategy='most_frequent')\n",
    "\n",
    "dummy1.fit(X_train_std, y_train)\n",
    "dummy2.fit(X_train_std, y_train)\n",
    "\n",
    "print('===========DUMMY MODELS ON TEST SET==========')\n",
    "print('Dummy 1: Stratified')\n",
    "print('f1 score:', f1_score(y_test, dummy1.predict(X_test_std)))\n",
    "\n",
    "print('Dummy 2: Most Frequent')\n",
    "print('f1 score:', f1_score(y_test, dummy2.predict(X_test_std)))"
   ]
  }
 ],
 "metadata": {
  "kernelspec": {
   "display_name": "Python 3",
   "language": "python",
   "name": "python3"
  },
  "language_info": {
   "codemirror_mode": {
    "name": "ipython",
    "version": 3
   },
   "file_extension": ".py",
   "mimetype": "text/x-python",
   "name": "python",
   "nbconvert_exporter": "python",
   "pygments_lexer": "ipython3",
   "version": "3.7.6"
  }
 },
 "nbformat": 4,
 "nbformat_minor": 4
}
