{
 "cells": [
  {
   "cell_type": "code",
   "execution_count": 1,
   "metadata": {},
   "outputs": [],
   "source": [
    "import numpy as np\n",
    "import pandas as pd\n",
    "from sklearn.model_selection import train_test_split\n",
    "from sklearn.preprocessing import StandardScaler\n",
    "from sklearn.model_selection import GridSearchCV\n",
    "from sklearn.model_selection import StratifiedKFold\n",
    "from sklearn.linear_model import LogisticRegression\n",
    "\n",
    "from sklearn.metrics import f1_score"
   ]
  },
  {
   "cell_type": "markdown",
   "metadata": {},
   "source": [
    "## Read data"
   ]
  },
  {
   "cell_type": "code",
   "execution_count": 28,
   "metadata": {},
   "outputs": [],
   "source": [
    "data = pd.read_csv('data/complete.csv')"
   ]
  },
  {
   "cell_type": "code",
   "execution_count": 29,
   "metadata": {},
   "outputs": [],
   "source": [
    "data = data.drop('customer_id', axis=1)"
   ]
  },
  {
   "cell_type": "markdown",
   "metadata": {},
   "source": [
    "## Split into train and test"
   ]
  },
  {
   "cell_type": "code",
   "execution_count": 30,
   "metadata": {},
   "outputs": [],
   "source": [
    "X = data.loc[:, data.columns != 'card_offer'].values\n",
    "y = data['card_offer'].values\n",
    "\n",
    "X_train, X_test, y_train, y_test = train_test_split(X, y,\n",
    "                                                  test_size=0.2,\n",
    "                                                  random_state=0,\n",
    "                                                   stratify=y)"
   ]
  },
  {
   "cell_type": "markdown",
   "metadata": {},
   "source": [
    "## Standardize"
   ]
  },
  {
   "cell_type": "code",
   "execution_count": 31,
   "metadata": {},
   "outputs": [],
   "source": [
    "stdsc = StandardScaler().fit(X_train)\n",
    "X_train_std = stdsc.transform(X_train)\n",
    "X_test_std = stdsc.transform(X_test)"
   ]
  },
  {
   "cell_type": "markdown",
   "metadata": {},
   "source": [
    "## Create model, cross validate\n",
    "\n",
    "- For this part, the GridSearchCV object will try the different combos of parameters for us\n",
    "- To use it, we just pass the model and the parameters we want it to try in a dictionary.\n",
    "- Each key of the dictionary is associate with a parameter of the model, and each key is a list of values to try for that paramter\n",
    "- For example, LogisticRegression has parameters called 'penalty' and 'C', so I use those as keys and associate them with a list of values to try for that parameter."
   ]
  },
  {
   "cell_type": "code",
   "execution_count": 32,
   "metadata": {},
   "outputs": [
    {
     "data": {
      "text/plain": [
       "GridSearchCV(cv=StratifiedKFold(n_splits=10, random_state=None, shuffle=False),\n",
       "             estimator=LogisticRegression(random_state=0, solver='liblinear'),\n",
       "             param_grid={'C': [0.0001, 0.0005, 0.001, 0.005, 0.01, 0.05, 1, 5,\n",
       "                               10, 50, 100, 500, 1000],\n",
       "                         'penalty': ['l1', 'l2']},\n",
       "             scoring='f1')"
      ]
     },
     "execution_count": 32,
     "metadata": {},
     "output_type": "execute_result"
    }
   ],
   "source": [
    "model = LogisticRegression(solver='liblinear', random_state=0)\n",
    "parameters = {'penalty': ['l1', 'l2'], \n",
    "              'C': [.0001, .0005, .001, .005,  .01, .05,  1, 5, 10, 50, 100, 500, 1000]}\n",
    "\n",
    "skf = StratifiedKFold(n_splits=10)\n",
    "classifier = GridSearchCV(model, parameters, cv=skf, scoring=\"f1\")\n",
    "classifier.fit(X_train, y_train)"
   ]
  },
  {
   "cell_type": "markdown",
   "metadata": {},
   "source": [
    "## Print out top 5 models according to mean test fold score\n",
    "- Look at mean_test_score column"
   ]
  },
  {
   "cell_type": "code",
   "execution_count": 33,
   "metadata": {},
   "outputs": [
    {
     "data": {
      "text/html": [
       "<div>\n",
       "<style scoped>\n",
       "    .dataframe tbody tr th:only-of-type {\n",
       "        vertical-align: middle;\n",
       "    }\n",
       "\n",
       "    .dataframe tbody tr th {\n",
       "        vertical-align: top;\n",
       "    }\n",
       "\n",
       "    .dataframe thead th {\n",
       "        text-align: right;\n",
       "    }\n",
       "</style>\n",
       "<table border=\"1\" class=\"dataframe\">\n",
       "  <thead>\n",
       "    <tr style=\"text-align: right;\">\n",
       "      <th></th>\n",
       "      <th>mean_fit_time</th>\n",
       "      <th>std_fit_time</th>\n",
       "      <th>mean_score_time</th>\n",
       "      <th>std_score_time</th>\n",
       "      <th>param_C</th>\n",
       "      <th>param_penalty</th>\n",
       "      <th>params</th>\n",
       "      <th>split0_test_score</th>\n",
       "      <th>split1_test_score</th>\n",
       "      <th>split2_test_score</th>\n",
       "      <th>split3_test_score</th>\n",
       "      <th>split4_test_score</th>\n",
       "      <th>split5_test_score</th>\n",
       "      <th>split6_test_score</th>\n",
       "      <th>split7_test_score</th>\n",
       "      <th>split8_test_score</th>\n",
       "      <th>split9_test_score</th>\n",
       "      <th>mean_test_score</th>\n",
       "      <th>std_test_score</th>\n",
       "      <th>rank_test_score</th>\n",
       "    </tr>\n",
       "  </thead>\n",
       "  <tbody>\n",
       "    <tr>\n",
       "      <th>20</th>\n",
       "      <td>0.115691</td>\n",
       "      <td>0.018275</td>\n",
       "      <td>0.001396</td>\n",
       "      <td>0.000488</td>\n",
       "      <td>100</td>\n",
       "      <td>l1</td>\n",
       "      <td>{'C': 100, 'penalty': 'l1'}</td>\n",
       "      <td>0.885246</td>\n",
       "      <td>0.887097</td>\n",
       "      <td>0.896266</td>\n",
       "      <td>0.865801</td>\n",
       "      <td>0.893443</td>\n",
       "      <td>0.880342</td>\n",
       "      <td>0.876033</td>\n",
       "      <td>0.878431</td>\n",
       "      <td>0.867769</td>\n",
       "      <td>0.887967</td>\n",
       "      <td>0.881839</td>\n",
       "      <td>0.009604</td>\n",
       "      <td>1</td>\n",
       "    </tr>\n",
       "    <tr>\n",
       "      <th>18</th>\n",
       "      <td>0.115986</td>\n",
       "      <td>0.020649</td>\n",
       "      <td>0.001401</td>\n",
       "      <td>0.000487</td>\n",
       "      <td>50</td>\n",
       "      <td>l1</td>\n",
       "      <td>{'C': 50, 'penalty': 'l1'}</td>\n",
       "      <td>0.885246</td>\n",
       "      <td>0.887097</td>\n",
       "      <td>0.896266</td>\n",
       "      <td>0.865801</td>\n",
       "      <td>0.893443</td>\n",
       "      <td>0.880342</td>\n",
       "      <td>0.876033</td>\n",
       "      <td>0.878431</td>\n",
       "      <td>0.867769</td>\n",
       "      <td>0.887967</td>\n",
       "      <td>0.881839</td>\n",
       "      <td>0.009604</td>\n",
       "      <td>1</td>\n",
       "    </tr>\n",
       "    <tr>\n",
       "      <th>22</th>\n",
       "      <td>0.119688</td>\n",
       "      <td>0.018006</td>\n",
       "      <td>0.001592</td>\n",
       "      <td>0.000485</td>\n",
       "      <td>500</td>\n",
       "      <td>l1</td>\n",
       "      <td>{'C': 500, 'penalty': 'l1'}</td>\n",
       "      <td>0.885246</td>\n",
       "      <td>0.887097</td>\n",
       "      <td>0.896266</td>\n",
       "      <td>0.865801</td>\n",
       "      <td>0.893443</td>\n",
       "      <td>0.880342</td>\n",
       "      <td>0.876033</td>\n",
       "      <td>0.875000</td>\n",
       "      <td>0.867769</td>\n",
       "      <td>0.887967</td>\n",
       "      <td>0.881496</td>\n",
       "      <td>0.009779</td>\n",
       "      <td>3</td>\n",
       "    </tr>\n",
       "    <tr>\n",
       "      <th>24</th>\n",
       "      <td>0.127160</td>\n",
       "      <td>0.021612</td>\n",
       "      <td>0.001493</td>\n",
       "      <td>0.000495</td>\n",
       "      <td>1000</td>\n",
       "      <td>l1</td>\n",
       "      <td>{'C': 1000, 'penalty': 'l1'}</td>\n",
       "      <td>0.885246</td>\n",
       "      <td>0.887097</td>\n",
       "      <td>0.896266</td>\n",
       "      <td>0.865801</td>\n",
       "      <td>0.893443</td>\n",
       "      <td>0.880342</td>\n",
       "      <td>0.876033</td>\n",
       "      <td>0.875000</td>\n",
       "      <td>0.867769</td>\n",
       "      <td>0.887967</td>\n",
       "      <td>0.881496</td>\n",
       "      <td>0.009779</td>\n",
       "      <td>3</td>\n",
       "    </tr>\n",
       "    <tr>\n",
       "      <th>16</th>\n",
       "      <td>0.107218</td>\n",
       "      <td>0.001568</td>\n",
       "      <td>0.001292</td>\n",
       "      <td>0.000451</td>\n",
       "      <td>10</td>\n",
       "      <td>l1</td>\n",
       "      <td>{'C': 10, 'penalty': 'l1'}</td>\n",
       "      <td>0.881633</td>\n",
       "      <td>0.887097</td>\n",
       "      <td>0.896266</td>\n",
       "      <td>0.865801</td>\n",
       "      <td>0.893443</td>\n",
       "      <td>0.885106</td>\n",
       "      <td>0.871369</td>\n",
       "      <td>0.878431</td>\n",
       "      <td>0.867769</td>\n",
       "      <td>0.887967</td>\n",
       "      <td>0.881488</td>\n",
       "      <td>0.009969</td>\n",
       "      <td>5</td>\n",
       "    </tr>\n",
       "  </tbody>\n",
       "</table>\n",
       "</div>"
      ],
      "text/plain": [
       "    mean_fit_time  std_fit_time  mean_score_time  std_score_time param_C  \\\n",
       "20       0.115691      0.018275         0.001396        0.000488     100   \n",
       "18       0.115986      0.020649         0.001401        0.000487      50   \n",
       "22       0.119688      0.018006         0.001592        0.000485     500   \n",
       "24       0.127160      0.021612         0.001493        0.000495    1000   \n",
       "16       0.107218      0.001568         0.001292        0.000451      10   \n",
       "\n",
       "   param_penalty                        params  split0_test_score  \\\n",
       "20            l1   {'C': 100, 'penalty': 'l1'}           0.885246   \n",
       "18            l1    {'C': 50, 'penalty': 'l1'}           0.885246   \n",
       "22            l1   {'C': 500, 'penalty': 'l1'}           0.885246   \n",
       "24            l1  {'C': 1000, 'penalty': 'l1'}           0.885246   \n",
       "16            l1    {'C': 10, 'penalty': 'l1'}           0.881633   \n",
       "\n",
       "    split1_test_score  split2_test_score  split3_test_score  \\\n",
       "20           0.887097           0.896266           0.865801   \n",
       "18           0.887097           0.896266           0.865801   \n",
       "22           0.887097           0.896266           0.865801   \n",
       "24           0.887097           0.896266           0.865801   \n",
       "16           0.887097           0.896266           0.865801   \n",
       "\n",
       "    split4_test_score  split5_test_score  split6_test_score  \\\n",
       "20           0.893443           0.880342           0.876033   \n",
       "18           0.893443           0.880342           0.876033   \n",
       "22           0.893443           0.880342           0.876033   \n",
       "24           0.893443           0.880342           0.876033   \n",
       "16           0.893443           0.885106           0.871369   \n",
       "\n",
       "    split7_test_score  split8_test_score  split9_test_score  mean_test_score  \\\n",
       "20           0.878431           0.867769           0.887967         0.881839   \n",
       "18           0.878431           0.867769           0.887967         0.881839   \n",
       "22           0.875000           0.867769           0.887967         0.881496   \n",
       "24           0.875000           0.867769           0.887967         0.881496   \n",
       "16           0.878431           0.867769           0.887967         0.881488   \n",
       "\n",
       "    std_test_score  rank_test_score  \n",
       "20        0.009604                1  \n",
       "18        0.009604                1  \n",
       "22        0.009779                3  \n",
       "24        0.009779                3  \n",
       "16        0.009969                5  "
      ]
     },
     "execution_count": 33,
     "metadata": {},
     "output_type": "execute_result"
    }
   ],
   "source": [
    "pd.DataFrame(classifier.cv_results_).sort_values(by='rank_test_score').head(5)"
   ]
  },
  {
   "cell_type": "markdown",
   "metadata": {},
   "source": [
    "## Pick best model"
   ]
  },
  {
   "cell_type": "code",
   "execution_count": 34,
   "metadata": {},
   "outputs": [],
   "source": [
    "np.set_printoptions(suppress=True)"
   ]
  },
  {
   "cell_type": "code",
   "execution_count": 35,
   "metadata": {},
   "outputs": [
    {
     "name": "stdout",
     "output_type": "stream",
     "text": [
      "The f1 score of the best LR model is: 0.863481228668942\n",
      "Test set accuracy of best LR model: 0.96\n",
      "Coefficients of best model:\n",
      "est_income 0.00013782401889480045\n",
      "hold_bal -0.10881197474246855\n",
      "pref_cust_prob 23.38367533781703\n",
      "imp_cscore 0.010442577208516808\n",
      "RiskScore -0.002070193626170034\n",
      "imp_crediteval -0.09102586592520628\n",
      "axio_score 0.0\n",
      "card_offer -0.9472957040713645\n",
      "demographic_slice_AX03efs -0.16607698682501829\n",
      "demographic_slice_BWEsk45 -0.969617140627039\n",
      "demographic_slice_CARDIF2 0.15620207830246638\n",
      "demographic_slice_DERS3w5 -4.860501220124651\n",
      "country_reg_E -11.153052249109228\n",
      "country_reg_W -6.279707635136627\n",
      "ad_exp_N -6.377802701469967\n"
     ]
    }
   ],
   "source": [
    "best_model = LogisticRegression(penalty='l1', C=1, solver='liblinear', random_state=0)\n",
    "best_model.fit(X_train, y_train)\n",
    "print(f\"The f1 score of the best LR model is: {f1_score(y_test, classifier.predict(X_test))}\")\n",
    "print(f'Test set accuracy of best LR model: {best_model.score(X_test, y_test)}')"
   ]
  }
 ],
 "metadata": {
  "kernelspec": {
   "display_name": "Python 3",
   "language": "python",
   "name": "python3"
  },
  "language_info": {
   "codemirror_mode": {
    "name": "ipython",
    "version": 3
   },
   "file_extension": ".py",
   "mimetype": "text/x-python",
   "name": "python",
   "nbconvert_exporter": "python",
   "pygments_lexer": "ipython3",
   "version": "3.7.3"
  }
 },
 "nbformat": 4,
 "nbformat_minor": 4
}
