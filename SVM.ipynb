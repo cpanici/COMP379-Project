{
 "cells": [
  {
   "cell_type": "markdown",
   "metadata": {},
   "source": [
    "libary imports"
   ]
  },
  {
   "cell_type": "code",
   "execution_count": 2,
   "metadata": {},
   "outputs": [],
   "source": [
    "import pandas as pd #uses pandas library and labels it as pd\n",
    "import numpy as np #uses numpy library and labels it as np\n",
    "from sklearn.svm import SVC #uses SVC from sklearn.svm libary\n",
    "from sklearn import metrics #uses metrics from sklearn\n",
    "from sklearn.model_selection import train_test_split #uses train_test_split from sklearn.model_selection\n",
    "from sklearn.preprocessing import StandardScaler #uses standard scaler to standardizer the date from sklearn.preprocessing\n",
    "from sklearn.model_selection import StratifiedKFold #uses StratifiedKFold from sklearn.model_selection\n",
    "from sklearn.model_selection import GridSearchCV #uses GridSearchCV from sklearn.model_selection"
   ]
  },
  {
   "cell_type": "markdown",
   "metadata": {},
   "source": [
    "data processing"
   ]
  },
  {
   "cell_type": "code",
   "execution_count": 3,
   "metadata": {},
   "outputs": [],
   "source": [
    "#importing\n",
    "\n",
    "data = pd.read_csv('data/complete.csv') #importing of cleaned data set\n",
    "\n",
    "#cleaning\n",
    "\n",
    "data = data.drop('customer_id', axis=1) #drops costmers ids\n",
    "\n",
    "#spliting\n",
    "\n",
    "X = data.loc[:, data.columns != 'card_offer'].values #gets all columns in cleaned data set but there label\n",
    "y = data['card_offer'].values #gets labels from cleaned data set\n",
    "X_train, X_test, y_train, y_test = train_test_split(X, y, test_size=0.2, random_state=0, stratify=y) #spliting in to test and training sets\n",
    "\n",
    "#Standardizing \n",
    "\n",
    "stdsc = StandardScaler().fit(X_train) #fits X_train to a standard sclaer\n",
    "X_train_std = stdsc.transform(X_train) #transforms X_train to the standardized set\n",
    "X_test_std = stdsc.transform(X_test) #transforms X_train to the standardized set"
   ]
  },
  {
   "cell_type": "markdown",
   "metadata": {},
   "source": [
    "SVM"
   ]
  },
  {
   "cell_type": "code",
   "execution_count": 4,
   "metadata": {},
   "outputs": [
    {
     "name": "stdout",
     "output_type": "stream",
     "text": [
      "Default parameter accuracy: 0.975\n",
      "Test f1 score of default parameter: 0.9158249158249158\n",
      "Gaussian kernel accuracy: 0.975\n",
      "Test f1 score of gaussian kernel accuracy parameter 0.9158249158249158\n",
      "Sigmoid kernel accuracy: 0.901\n",
      "Test f1 score of sigmoid kernel: 0.6677852348993288\n"
     ]
    }
   ],
   "source": [
    "#default\n",
    "\n",
    "svmClassifer = SVC() #creates a support vector machine from sklearn.svm with default parameters\n",
    "svmClassifer.fit(X_train_std, y_train.ravel()) #fits the svm to the training data set\n",
    "devPredict = svmClassifer.predict(X_test_std) #predicts the labels for test\n",
    "print(\"Default parameter accuracy:\", metrics.accuracy_score(y_test, devPredict)) #gets accuracy score for svm with default parameters\n",
    "print(\"Test f1 score of default parameter:\", metrics.f1_score(y_test, devPredict))#printing the f1 scores of the default svc model\n",
    "\n",
    "#Gaussian kernel\n",
    "\n",
    "svmGaussianClassifer = SVC(kernel='rbf') #creates a support vector machine from sklearn.svm with Gaussian kernel\n",
    "svmGaussianClassifer.fit(X_train_std, y_train.ravel()) #fits the svm to the training data set\n",
    "devGaussianPredict = svmGaussianClassifer.predict(X_test_std) #predicts the labels for test\n",
    "print(\"Gaussian kernel accuracy:\", metrics.accuracy_score(y_test, devGaussianPredict)) #gets accuracy score for svm with Gaussian kernel\n",
    "print(\"Test f1 score of gaussian kernel accuracy parameter\", metrics.f1_score(y_test, devGaussianPredict))#printing the f1 scores of the Gaussian kernel model\n",
    "\n",
    "#Sigmoid kernel\n",
    "\n",
    "svmSigmoidClassifer = SVC(kernel='sigmoid') #creates a support vector machine from sklearn.svm with Sigmoid kernel\n",
    "svmSigmoidClassifer.fit(X_train_std, y_train.ravel()) #fits the svm to the training data set\n",
    "devSigmoidPredict = svmSigmoidClassifer.predict(X_test_std) #predicts the labels for test\n",
    "print(\"Sigmoid kernel accuracy:\", metrics.accuracy_score(y_test, devSigmoidPredict)) #gets accuracy score for svm with Sigmoid kernel\n",
    "print(\"Test f1 score of sigmoid kernel:\", metrics.f1_score(y_test, devSigmoidPredict))#printing the f1 scores of the sigmoid kernel model"
   ]
  },
  {
   "cell_type": "markdown",
   "metadata": {},
   "source": [
    "Tunning"
   ]
  },
  {
   "cell_type": "code",
   "execution_count": 5,
   "metadata": {},
   "outputs": [
    {
     "data": {
      "text/plain": [
       "GridSearchCV(cv=StratifiedKFold(n_splits=10, random_state=None, shuffle=False),\n",
       "             error_score=nan,\n",
       "             estimator=SVC(C=1.0, break_ties=False, cache_size=200,\n",
       "                           class_weight=None, coef0=0.0,\n",
       "                           decision_function_shape='ovr', degree=3,\n",
       "                           gamma='scale', kernel='rbf', max_iter=-1,\n",
       "                           probability=False, random_state=None, shrinking=True,\n",
       "                           tol=0.001, verbose=False),\n",
       "             iid='deprecated', n_jobs=None,\n",
       "             param_grid=[{'C': [1, 10, 100, 1000], 'kernel': ['linear']},\n",
       "                         {'C': [1, 10, 100, 1000], 'gamma': [0.001, 0.0001],\n",
       "                          'kernel': ['rbf']}],\n",
       "             pre_dispatch='2*n_jobs', refit=True, return_train_score=False,\n",
       "             scoring=None, verbose=0)"
      ]
     },
     "execution_count": 5,
     "metadata": {},
     "output_type": "execute_result"
    }
   ],
   "source": [
    "tuned_parameters = [\n",
    "  {'C': [1, 10, 100, 1000], 'kernel': ['linear']},\n",
    "  {'C': [1, 10, 100, 1000], 'gamma': [0.001, 0.0001], 'kernel': ['rbf']},] #Exhaustive Grid Search parameters\n",
    "skf = StratifiedKFold(n_splits=10) #defines how many folds to do on find best parameters\n",
    "svmTuned = SVC(kernel='rbf') #creates a support vector machine from sklearn.svm with Gaussian kernel\n",
    "svmTunedClassifier = GridSearchCV(svmTuned, tuned_parameters, cv = skf) #preforms grid search to find optimal paramaters\n",
    "svmTunedClassifier.fit(X_train_std, y_train.ravel()) #fits the svm to the training data set"
   ]
  },
  {
   "cell_type": "code",
   "execution_count": 9,
   "metadata": {},
   "outputs": [
    {
     "data": {
      "text/plain": [
       "SVC(C=1000, break_ties=False, cache_size=200, class_weight=None, coef0=0.0,\n",
       "    decision_function_shape='ovr', degree=3, gamma=0.001, kernel='rbf',\n",
       "    max_iter=-1, probability=False, random_state=None, shrinking=True,\n",
       "    tol=0.001, verbose=False)"
      ]
     },
     "execution_count": 9,
     "metadata": {},
     "output_type": "execute_result"
    }
   ],
   "source": [
    "print(\"The best parameters were\", svmTunedClassifier.best_estimator_) #prints best estiamte of optimal parameters "
   ]
  },
  {
   "cell_type": "code",
   "execution_count": 6,
   "metadata": {},
   "outputs": [
    {
     "data": {
      "text/plain": [
       "0.976"
      ]
     },
     "execution_count": 6,
     "metadata": {},
     "output_type": "execute_result"
    }
   ],
   "source": [
    "print(\"The best holdout F1 score is\", svmTunedClassifier.best_score_) #prints best f1 score of optimal parameters "
   ]
  },
  {
   "cell_type": "markdown",
   "metadata": {},
   "source": [
    "Predicting with best svc parameters"
   ]
  },
  {
   "cell_type": "code",
   "execution_count": 7,
   "metadata": {},
   "outputs": [
    {
     "name": "stdout",
     "output_type": "stream",
     "text": [
      "Best kernel accuracy: 0.973\n",
      "Test f1 score of best kernel accuracy parameter 0.9105960264900662\n"
     ]
    }
   ],
   "source": [
    "svmBestClassifier = SVC(C=1000, break_ties=False, cache_size=200, class_weight=None, coef0=0.0,\n",
    "    decision_function_shape='ovr', degree=3, gamma=0.001, kernel='rbf',\n",
    "    max_iter=-1, probability=False, random_state=None, shrinking=True,\n",
    "    tol=0.001, verbose=False) #creates a support vector machine from sklearn.svm with best kernel from tunning\n",
    "svmBestClassifier.fit(X_train_std, y_train.ravel()) #fits the svm to the training data set\n",
    "svmBestPredict = svmBestClassifier.predict(X_test_std) #predicts the labels for test\n",
    "print(\"Best kernel accuracy:\", metrics.accuracy_score(y_test, svmBestPredict)) #gets accuracy score for svm with the best kernel\n",
    "print(\"Test f1 score of best kernel accuracy parameter\", metrics.f1_score(y_test, svmBestPredict)) #printing the f1 scores of the best model"
   ]
  },
  {
   "cell_type": "markdown",
   "metadata": {},
   "source": [
    "Best model prediction on unseen data"
   ]
  },
  {
   "cell_type": "code",
   "execution_count": 8,
   "metadata": {},
   "outputs": [
    {
     "name": "stdout",
     "output_type": "stream",
     "text": [
      "Predicting on unseen data... \n",
      "Unseen data predicted counts: [0 0 0 ... 1 1 0]\n"
     ]
    }
   ],
   "source": [
    "unseen = pd.read_csv('data/unseen.csv') #importing of unseen data set\n",
    "unseen = unseen.drop('customer_id', axis=1) #drops costmers ids\n",
    "unseen_std = stdsc.transform(unseen) #transforms X_train to the standardized set\n",
    "unseenPredict = svmBestClassifier.predict(unseen_std) #predicts the labels for test\n",
    "print(\"Predicting on unseen data... \\nUnseen data predicted counts:\", unseenPredict) #printing of predictions of unseen data"
   ]
  },
  {
   "cell_type": "code",
   "execution_count": null,
   "metadata": {},
   "outputs": [],
   "source": []
  }
 ],
 "metadata": {
  "kernelspec": {
   "display_name": "Python 3",
   "language": "python",
   "name": "python3"
  },
  "language_info": {
   "codemirror_mode": {
    "name": "ipython",
    "version": 3
   },
   "file_extension": ".py",
   "mimetype": "text/x-python",
   "name": "python",
   "nbconvert_exporter": "python",
   "pygments_lexer": "ipython3",
   "version": "3.7.6"
  }
 },
 "nbformat": 4,
 "nbformat_minor": 4
}
