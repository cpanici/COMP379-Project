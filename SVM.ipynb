{
 "cells": [
  {
   "cell_type": "markdown",
   "metadata": {},
   "source": [
    "libary imports"
   ]
  },
  {
   "cell_type": "code",
   "execution_count": 6,
   "metadata": {},
   "outputs": [],
   "source": [
    "import pandas as pd #uses pandas library and labels it as pd\n",
    "import numpy as np #uses numpy library and labels it as np\n",
    "from sklearn.svm import SVC #uses SVC from sklearn.svm libary\n",
    "from sklearn import metrics #uses metrics from sklearn\n",
    "from sklearn.model_selection import train_test_split # uses train_test_split from sklearn.model_selection\n",
    "from sklearn.preprocessing import StandardScaler"
   ]
  },
  {
   "cell_type": "markdown",
   "metadata": {},
   "source": [
    "data processing"
   ]
  },
  {
   "cell_type": "code",
   "execution_count": 7,
   "metadata": {},
   "outputs": [],
   "source": [
    "#importing\n",
    "\n",
    "data = pd.read_csv('data/complete.csv') #importing of cleaned data set\n",
    "\n",
    "#cleaning\n",
    "\n",
    "data = data.drop('customer_id', axis=1) #drops costmers ids\n",
    "\n",
    "#spliting\n",
    "\n",
    "X = data.loc[:, data.columns != 'card_offer'].values #gets all columns in cleaned data set but there label\n",
    "y = data['card_offer'].values #gets labels from cleaned data set\n",
    "X_train, X_test, y_train, y_test = train_test_split(X, y, test_size=0.2, random_state=0, stratify=y) #spliting in to test and training sets\n",
    "\n",
    "#Standardizing \n",
    "\n",
    "stdsc = StandardScaler().fit(X_train)\n",
    "X_train_std = stdsc.transform(X_train)\n",
    "X_test_std = stdsc.transform(X_test)"
   ]
  },
  {
   "cell_type": "markdown",
   "metadata": {},
   "source": [
    "SVM"
   ]
  },
  {
   "cell_type": "code",
   "execution_count": 20,
   "metadata": {},
   "outputs": [
    {
     "name": "stdout",
     "output_type": "stream",
     "text": [
      "Default parameter accuracy: 0.847\n",
      "Test f1 score of default parameter: 0.0\n",
      "Gaussian kernel accuracy: 0.847\n",
      "Test f1 score of gaussian kernel accuracy parameter 0.0\n",
      "Sigmoid kernel accuracy: 0.7175\n",
      "Test f1 score of sigmoid kernel: 0.059900166389351084\n"
     ]
    }
   ],
   "source": [
    "#default\n",
    "\n",
    "svmClassifer = SVC() #creates a support vector machine from sklearn.svm with default parameters\n",
    "svmClassifer.fit(X_train, y_train.ravel()) #fits the svm to the training data set\n",
    "devPredict = svmClassifer.predict(X_test) #predicts the labels for test\n",
    "print(\"Default parameter accuracy:\", metrics.accuracy_score(y_test, devPredict)) #gets accuracy score for svm with default parameters\n",
    "print(\"Test f1 score of default parameter:\", metrics.f1_score(y_test, devPredict))\n",
    "\n",
    "#Gaussian kernel\n",
    "\n",
    "svmGaussianClassifer = SVC(kernel='rbf') #creates a support vector machine from sklearn.svm with Gaussian kernel\n",
    "svmGaussianClassifer.fit(X_train, y_train.ravel()) #fits the svm to the training data set\n",
    "devGaussianPredict = svmGaussianClassifer.predict(X_test) #predicts the labels for test\n",
    "print(\"Gaussian kernel accuracy:\", metrics.accuracy_score(y_test, devGaussianPredict)) #gets accuracy score for svm with Gaussian kernel\n",
    "print(\"Test f1 score of gaussian kernel accuracy parameter\", metrics.f1_score(y_test, devGaussianPredict))\n",
    "\n",
    "#Sigmoid kernel\n",
    "\n",
    "svmSigmoidClassifer = SVC(kernel='sigmoid') #creates a support vector machine from sklearn.svm with Sigmoid kernel\n",
    "svmSigmoidClassifer.fit(X_train, y_train.ravel()) #fits the svm to the training data set\n",
    "devSigmoidPredict = svmSigmoidClassifer.predict(X_test) #predicts the labels for test\n",
    "print(\"Sigmoid kernel accuracy:\", metrics.accuracy_score(y_test, devSigmoidPredict)) #gets accuracy score for svm with Sigmoid kernel\n",
    "print(\"Test f1 score of sigmoid kernel:\", metrics.f1_score(y_test, devSigmoidPredict))"
   ]
  },
  {
   "cell_type": "markdown",
   "metadata": {},
   "source": [
    "Best model prediction on unseen data"
   ]
  },
  {
   "cell_type": "code",
   "execution_count": 19,
   "metadata": {},
   "outputs": [
    {
     "name": "stdout",
     "output_type": "stream",
     "text": [
      "Predicting on unseen data... \n",
      "Unseen data predicted counts: [0 0 0 ... 0 0 0]\n"
     ]
    }
   ],
   "source": [
    "unseen = pd.read_csv('data/unseen.csv')\n",
    "unseen_X = unseen.loc[:, data.columns != 'card_offer'].values #gets all columns in cleaned data set but there label\n",
    "unseenPredict = svmGaussianClassifer.predict(unseen_X) #predicts the labels for test\n",
    "print(\"Predicting on unseen data... \\nUnseen data predicted counts:\", unseenPredict)"
   ]
  },
  {
   "cell_type": "code",
   "execution_count": null,
   "metadata": {},
   "outputs": [],
   "source": []
  }
 ],
 "metadata": {
  "kernelspec": {
   "display_name": "Python 3",
   "language": "python",
   "name": "python3"
  },
  "language_info": {
   "codemirror_mode": {
    "name": "ipython",
    "version": 3
   },
   "file_extension": ".py",
   "mimetype": "text/x-python",
   "name": "python",
   "nbconvert_exporter": "python",
   "pygments_lexer": "ipython3",
   "version": "3.7.6"
  }
 },
 "nbformat": 4,
 "nbformat_minor": 4
}
