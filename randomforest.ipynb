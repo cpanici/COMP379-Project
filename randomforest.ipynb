{
 "cells": [
  {
   "cell_type": "code",
   "execution_count": 7,
   "metadata": {
    "collapsed": true,
    "pycharm": {
     "is_executing": false
    }
   },
   "outputs": [],
   "source": [
    "import pandas as pd\n",
    "\n",
    "from sklearn.model_selection import train_test_split\n",
    "from sklearn.preprocessing import StandardScaler\n",
    "from sklearn.model_selection import GridSearchCV\n",
    "from sklearn.model_selection import StratifiedKFold\n",
    "from sklearn.ensemble import RandomForestClassifier\n",
    "from sklearn.metrics import accuracy_score\n",
    "from sklearn.metrics import f1_score\n"
   ]
  },
  {
   "cell_type": "code",
   "execution_count": 8,
   "outputs": [],
   "source": [
    "dataset = pd.read_csv(\"data/complete.csv\")"
   ],
   "metadata": {
    "collapsed": false,
    "pycharm": {
     "name": "#%%\n",
     "is_executing": false
    }
   }
  },
  {
   "cell_type": "code",
   "execution_count": 9,
   "outputs": [],
   "source": [
    "# Excluding customer ID and index because they're not relevant features\n",
    "new_dataset = dataset.iloc[:,2:18]\n",
    "features = new_dataset.loc[:, new_dataset.columns != 'card_offer'].values\n",
    "labels = new_dataset['card_offer'].values"
   ],
   "metadata": {
    "collapsed": false,
    "pycharm": {
     "name": "#%%\n",
     "is_executing": false
    }
   }
  },
  {
   "cell_type": "code",
   "execution_count": 10,
   "outputs": [],
   "source": [
    "# Split into training and test sets\n",
    "X_train, X_test, y_train, y_test = train_test_split(features, labels,\n",
    "                                                  test_size=0.2,\n",
    "                                                  random_state=23,\n",
    "                                                   stratify=labels)"
   ],
   "metadata": {
    "collapsed": false,
    "pycharm": {
     "name": "#%%\n",
     "is_executing": false
    }
   }
  },
  {
   "cell_type": "code",
   "execution_count": 11,
   "outputs": [],
   "source": [
    "# Scale both the training features and the test features\n",
    "\n",
    "scaler = StandardScaler().fit(X_train)\n",
    "X_train_scaled = scaler.transform(X_train)\n",
    "X_test_scaled = scaler.transform(X_test)"
   ],
   "metadata": {
    "collapsed": false,
    "pycharm": {
     "name": "#%%\n",
     "is_executing": false
    }
   }
  },
  {
   "cell_type": "code",
   "execution_count": 12,
   "outputs": [
    {
     "data": {
      "text/plain": "GridSearchCV(cv=StratifiedKFold(n_splits=10, random_state=None, shuffle=False),\n             estimator=RandomForestClassifier(),\n             param_grid={'max_depth': [10, 20, 30],\n                         'n_estimators': [100, 200, 400, 600, 800, 1000]})"
     },
     "metadata": {},
     "output_type": "execute_result",
     "execution_count": 12
    }
   ],
   "source": [
    "# Fit a random forest classifier using grid search onto the training data\n",
    "\n",
    "rf = RandomForestClassifier()\n",
    "params = { 'n_estimators': [100,200,400,600,800,1000] ,  'max_depth': [10,20,30]} \n",
    "\n",
    "skf = StratifiedKFold(n_splits=10)\n",
    "rf_classifier = GridSearchCV(rf, params, cv = skf)\n",
    "rf_classifier.fit(X_train_scaled, y_train)"
   ],
   "metadata": {
    "collapsed": false,
    "pycharm": {
     "name": "#%%\n",
     "is_executing": false
    }
   }
  },
  {
   "cell_type": "code",
   "execution_count": 13,
   "outputs": [
    {
     "data": {
      "text/plain": "0.9722499999999998"
     },
     "metadata": {},
     "output_type": "execute_result",
     "execution_count": 13
    }
   ],
   "source": [
    "rf_classifier.best_score_"
   ],
   "metadata": {
    "collapsed": false,
    "pycharm": {
     "name": "#%%\n",
     "is_executing": false
    }
   }
  },
  {
   "cell_type": "code",
   "execution_count": 17,
   "outputs": [
    {
     "data": {
      "text/plain": "    mean_fit_time  std_fit_time  mean_score_time  std_score_time  \\\n17       5.091328      0.017800         0.120903        0.000793   \n14       2.034471      0.014257         0.048623        0.000499   \n10       4.078825      0.018589         0.097060        0.000917   \n13       1.020454      0.010116         0.024776        0.000866   \n11       5.105967      0.045429         0.121025        0.001403   \n\n   param_max_depth param_n_estimators  \\\n17              30               1000   \n14              30                400   \n10              20                800   \n13              30                200   \n11              20               1000   \n\n                                     params  split0_test_score  \\\n17  {'max_depth': 30, 'n_estimators': 1000}            0.96875   \n14   {'max_depth': 30, 'n_estimators': 400}            0.96375   \n10   {'max_depth': 20, 'n_estimators': 800}            0.96625   \n13   {'max_depth': 30, 'n_estimators': 200}            0.96375   \n11  {'max_depth': 20, 'n_estimators': 1000}            0.96625   \n\n    split1_test_score  split2_test_score  split3_test_score  \\\n17            0.96500            0.97625            0.96750   \n14            0.96375            0.97875            0.96625   \n10            0.96500            0.97625            0.96500   \n13            0.96625            0.97750            0.97000   \n11            0.96375            0.97875            0.96375   \n\n    split4_test_score  split5_test_score  split6_test_score  \\\n17            0.98125            0.96625            0.97750   \n14            0.97875            0.96625            0.97875   \n10            0.97875            0.96625            0.97625   \n13            0.98000            0.96375            0.97375   \n11            0.98125            0.96250            0.97875   \n\n    split7_test_score  split8_test_score  split9_test_score  mean_test_score  \\\n17            0.97375            0.96750            0.97875         0.972250   \n14            0.97375            0.96875            0.98000         0.971875   \n10            0.97250            0.96750            0.98125         0.971500   \n13            0.97625            0.96625            0.97375         0.971125   \n11            0.97375            0.96500            0.97625         0.971000   \n\n    std_test_score  rank_test_score  \n17        0.005612                1  \n14        0.006453                2  \n10        0.005911                3  \n13        0.005631                4  \n11        0.007045                5  ",
      "text/html": "<div>\n<style scoped>\n    .dataframe tbody tr th:only-of-type {\n        vertical-align: middle;\n    }\n\n    .dataframe tbody tr th {\n        vertical-align: top;\n    }\n\n    .dataframe thead th {\n        text-align: right;\n    }\n</style>\n<table border=\"1\" class=\"dataframe\">\n  <thead>\n    <tr style=\"text-align: right;\">\n      <th></th>\n      <th>mean_fit_time</th>\n      <th>std_fit_time</th>\n      <th>mean_score_time</th>\n      <th>std_score_time</th>\n      <th>param_max_depth</th>\n      <th>param_n_estimators</th>\n      <th>params</th>\n      <th>split0_test_score</th>\n      <th>split1_test_score</th>\n      <th>split2_test_score</th>\n      <th>split3_test_score</th>\n      <th>split4_test_score</th>\n      <th>split5_test_score</th>\n      <th>split6_test_score</th>\n      <th>split7_test_score</th>\n      <th>split8_test_score</th>\n      <th>split9_test_score</th>\n      <th>mean_test_score</th>\n      <th>std_test_score</th>\n      <th>rank_test_score</th>\n    </tr>\n  </thead>\n  <tbody>\n    <tr>\n      <th>17</th>\n      <td>5.091328</td>\n      <td>0.017800</td>\n      <td>0.120903</td>\n      <td>0.000793</td>\n      <td>30</td>\n      <td>1000</td>\n      <td>{'max_depth': 30, 'n_estimators': 1000}</td>\n      <td>0.96875</td>\n      <td>0.96500</td>\n      <td>0.97625</td>\n      <td>0.96750</td>\n      <td>0.98125</td>\n      <td>0.96625</td>\n      <td>0.97750</td>\n      <td>0.97375</td>\n      <td>0.96750</td>\n      <td>0.97875</td>\n      <td>0.972250</td>\n      <td>0.005612</td>\n      <td>1</td>\n    </tr>\n    <tr>\n      <th>14</th>\n      <td>2.034471</td>\n      <td>0.014257</td>\n      <td>0.048623</td>\n      <td>0.000499</td>\n      <td>30</td>\n      <td>400</td>\n      <td>{'max_depth': 30, 'n_estimators': 400}</td>\n      <td>0.96375</td>\n      <td>0.96375</td>\n      <td>0.97875</td>\n      <td>0.96625</td>\n      <td>0.97875</td>\n      <td>0.96625</td>\n      <td>0.97875</td>\n      <td>0.97375</td>\n      <td>0.96875</td>\n      <td>0.98000</td>\n      <td>0.971875</td>\n      <td>0.006453</td>\n      <td>2</td>\n    </tr>\n    <tr>\n      <th>10</th>\n      <td>4.078825</td>\n      <td>0.018589</td>\n      <td>0.097060</td>\n      <td>0.000917</td>\n      <td>20</td>\n      <td>800</td>\n      <td>{'max_depth': 20, 'n_estimators': 800}</td>\n      <td>0.96625</td>\n      <td>0.96500</td>\n      <td>0.97625</td>\n      <td>0.96500</td>\n      <td>0.97875</td>\n      <td>0.96625</td>\n      <td>0.97625</td>\n      <td>0.97250</td>\n      <td>0.96750</td>\n      <td>0.98125</td>\n      <td>0.971500</td>\n      <td>0.005911</td>\n      <td>3</td>\n    </tr>\n    <tr>\n      <th>13</th>\n      <td>1.020454</td>\n      <td>0.010116</td>\n      <td>0.024776</td>\n      <td>0.000866</td>\n      <td>30</td>\n      <td>200</td>\n      <td>{'max_depth': 30, 'n_estimators': 200}</td>\n      <td>0.96375</td>\n      <td>0.96625</td>\n      <td>0.97750</td>\n      <td>0.97000</td>\n      <td>0.98000</td>\n      <td>0.96375</td>\n      <td>0.97375</td>\n      <td>0.97625</td>\n      <td>0.96625</td>\n      <td>0.97375</td>\n      <td>0.971125</td>\n      <td>0.005631</td>\n      <td>4</td>\n    </tr>\n    <tr>\n      <th>11</th>\n      <td>5.105967</td>\n      <td>0.045429</td>\n      <td>0.121025</td>\n      <td>0.001403</td>\n      <td>20</td>\n      <td>1000</td>\n      <td>{'max_depth': 20, 'n_estimators': 1000}</td>\n      <td>0.96625</td>\n      <td>0.96375</td>\n      <td>0.97875</td>\n      <td>0.96375</td>\n      <td>0.98125</td>\n      <td>0.96250</td>\n      <td>0.97875</td>\n      <td>0.97375</td>\n      <td>0.96500</td>\n      <td>0.97625</td>\n      <td>0.971000</td>\n      <td>0.007045</td>\n      <td>5</td>\n    </tr>\n  </tbody>\n</table>\n</div>"
     },
     "metadata": {},
     "output_type": "execute_result",
     "execution_count": 17
    }
   ],
   "source": [
    "pd.DataFrame(rf_classifier.cv_results_).sort_values(by='rank_test_score').head(5)\n"
   ],
   "metadata": {
    "collapsed": false,
    "pycharm": {
     "name": "#%%\n",
     "is_executing": false
    }
   }
  },
  {
   "cell_type": "code",
   "execution_count": 14,
   "outputs": [
    {
     "data": {
      "text/plain": "RandomForestClassifier(max_depth=30, n_estimators=1000)"
     },
     "metadata": {},
     "output_type": "execute_result",
     "execution_count": 14
    }
   ],
   "source": [
    "rf_classifier.best_estimator_\n"
   ],
   "metadata": {
    "collapsed": false,
    "pycharm": {
     "name": "#%%\n",
     "is_executing": false
    }
   }
  },
  {
   "cell_type": "markdown",
   "source": [
    "The best model for a random forest uses 1000 trees and a max depth of 30 in this case\n"
   ],
   "metadata": {
    "collapsed": false,
    "pycharm": {
     "name": "#%% md\n"
    }
   }
  },
  {
   "cell_type": "code",
   "execution_count": 15,
   "outputs": [],
   "source": [
    "# Make predictions of the y values for the test set now\n",
    "predictions_test = rf_classifier.predict(X_test_scaled)"
   ],
   "metadata": {
    "collapsed": false,
    "pycharm": {
     "name": "#%%\n",
     "is_executing": false
    }
   }
  },
  {
   "cell_type": "code",
   "execution_count": 16,
   "outputs": [
    {
     "name": "stdout",
     "text": [
      "Test accuracy of best random forest model: 0.977\n",
      "Test f1 score of best random forest model: 0.9212328767123288\n"
     ],
     "output_type": "stream"
    }
   ],
   "source": [
    "print(f'Test accuracy of best random forest model: {accuracy_score(y_test, predictions_test)}')\n",
    "print(f'Test f1 score of best random forest model: {f1_score(y_test, predictions_test)}')"
   ],
   "metadata": {
    "collapsed": false,
    "pycharm": {
     "name": "#%%\n",
     "is_executing": false
    }
   }
  },
  {
   "cell_type": "markdown",
   "source": [
    "Test accuracy of best random forest model: 0.977\n",
    "Test f1 score of best random forest model: 0.9212\n"
   ],
   "metadata": {
    "collapsed": false,
    "pycharm": {
     "name": "#%% md\n"
    }
   }
  }
 ],
 "metadata": {
  "kernelspec": {
   "display_name": "Python 3",
   "language": "python",
   "name": "python3"
  },
  "language_info": {
   "codemirror_mode": {
    "name": "ipython",
    "version": 2
   },
   "file_extension": ".py",
   "mimetype": "text/x-python",
   "name": "python",
   "nbconvert_exporter": "python",
   "pygments_lexer": "ipython2",
   "version": "2.7.6"
  },
  "pycharm": {
   "stem_cell": {
    "cell_type": "raw",
    "source": [],
    "metadata": {
     "collapsed": false
    }
   }
  }
 },
 "nbformat": 4,
 "nbformat_minor": 0
}