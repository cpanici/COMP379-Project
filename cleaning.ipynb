{
 "cells": [
  {
   "cell_type": "code",
   "execution_count": 4,
   "metadata": {},
   "outputs": [],
   "source": [
    "import pandas as pd\n",
    "import numpy as np\n",
    "from sklearn.linear_model import LogisticRegression\n",
    "from sklearn.model_selection import train_test_split\n",
    "from sklearn.preprocessing import StandardScaler"
   ]
  },
  {
   "cell_type": "markdown",
   "metadata": {},
   "source": [
    "https://www.kaggle.com/amarvw/customercreditcard\n",
    "\n",
    "### Saved the files in a folder called 'data'.\n",
    "\n",
    "### There's two files in the set (Test 1 and Test 2). We can just use the first since the second is unlabeled.\n",
    "### Maybe predict on the second after tuning the model on the first to imitate how a real company\n",
    "### would be making decisions without knowing the \"true outcome\""
   ]
  },
  {
   "cell_type": "code",
   "execution_count": 5,
   "metadata": {},
   "outputs": [],
   "source": [
    "data = pd.read_csv('data/Test 1.csv')"
   ]
  },
  {
   "cell_type": "markdown",
   "metadata": {},
   "source": [
    "### No missingness"
   ]
  },
  {
   "cell_type": "code",
   "execution_count": 6,
   "metadata": {},
   "outputs": [
    {
     "data": {
      "text/plain": [
       "customer_id          0\n",
       "demographic_slice    0\n",
       "country_reg          0\n",
       "ad_exp               0\n",
       "est_income           0\n",
       "hold_bal             0\n",
       "pref_cust_prob       0\n",
       "imp_cscore           0\n",
       "RiskScore            0\n",
       "imp_crediteval       0\n",
       "axio_score           0\n",
       "card_offer           0\n",
       "dtype: int64"
      ]
     },
     "execution_count": 6,
     "metadata": {},
     "output_type": "execute_result"
    }
   ],
   "source": [
    "data.isna().sum()"
   ]
  },
  {
   "cell_type": "markdown",
   "metadata": {},
   "source": [
    "### Check datatypes"
   ]
  },
  {
   "cell_type": "code",
   "execution_count": 7,
   "metadata": {},
   "outputs": [
    {
     "data": {
      "text/plain": [
       "customer_id            int64\n",
       "demographic_slice     object\n",
       "country_reg           object\n",
       "ad_exp                object\n",
       "est_income           float64\n",
       "hold_bal             float64\n",
       "pref_cust_prob       float64\n",
       "imp_cscore             int64\n",
       "RiskScore            float64\n",
       "imp_crediteval       float64\n",
       "axio_score           float64\n",
       "card_offer              bool\n",
       "dtype: object"
      ]
     },
     "execution_count": 7,
     "metadata": {},
     "output_type": "execute_result"
    }
   ],
   "source": [
    "data.dtypes"
   ]
  },
  {
   "cell_type": "markdown",
   "metadata": {},
   "source": [
    "### Replace True/False label with 0/1"
   ]
  },
  {
   "cell_type": "code",
   "execution_count": 8,
   "metadata": {},
   "outputs": [],
   "source": [
    "data['card_offer'] = data['card_offer'].replace({True: 1, False: 0})"
   ]
  },
  {
   "cell_type": "markdown",
   "metadata": {},
   "source": [
    "### Getting dummy variables for the categorical features"
   ]
  },
  {
   "cell_type": "code",
   "execution_count": 9,
   "metadata": {},
   "outputs": [],
   "source": [
    "categoricals = data.select_dtypes(include='object')\n",
    "dummies = pd.get_dummies(categoricals)"
   ]
  },
  {
   "cell_type": "code",
   "execution_count": 10,
   "metadata": {},
   "outputs": [],
   "source": [
    "numerics = data.select_dtypes(exclude='object')\n",
    "complete = pd.merge(numerics, dummies, left_on=numerics.index, right_on=dummies.index)\n",
    "complete = complete.drop('key_0', axis=1)"
   ]
  },
  {
   "cell_type": "code",
   "execution_count": 13,
   "metadata": {},
   "outputs": [],
   "source": [
    "complete.to_csv('data/complete.csv', index=False)"
   ]
  }
 ],
 "metadata": {
  "kernelspec": {
   "display_name": "Python 3",
   "language": "python",
   "name": "python3"
  },
  "language_info": {
   "codemirror_mode": {
    "name": "ipython",
    "version": 3
   },
   "file_extension": ".py",
   "mimetype": "text/x-python",
   "name": "python",
   "nbconvert_exporter": "python",
   "pygments_lexer": "ipython3",
   "version": "3.7.6"
  }
 },
 "nbformat": 4,
 "nbformat_minor": 4
}
